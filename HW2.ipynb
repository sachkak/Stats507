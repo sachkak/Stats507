{
 "cells": [
  {
   "cell_type": "markdown",
   "id": "4fed82ad",
   "metadata": {},
   "source": [
    "## Problem Set 2\n",
    "**Stats 507, Fall 2021**\n",
    "\n",
    "*Sachie Kakehi*\n",
    "\n",
    "*October 1, 2021*\n",
    "\n",
    "Contents\n",
    "+ [Question 0](#Question-0)\n",
    "+ [Question 1](#Question-1)\n",
    "+ [Question 2](#Question-2)"
   ]
  },
  {
   "cell_type": "markdown",
   "id": "bb6c976b",
   "metadata": {},
   "source": [
    "## Question 0 - Code review warmup [10 points]\n",
    "\n",
    "Code snippet"
   ]
  },
  {
   "cell_type": "code",
   "execution_count": 1,
   "id": "b7ac194e",
   "metadata": {},
   "outputs": [
    {
     "name": "stdout",
     "output_type": "stream",
     "text": [
      "3\n",
      "3\n",
      "3\n",
      "append li [(1, 3, 5), (1, 9, 8)]\n",
      "op [(1, 9, 8)]\n",
      "3\n",
      "3\n",
      "3\n",
      "op [(1, 9, 8), (0, 1, 2)]\n",
      "3\n",
      "append li [(1, 9, 8), (1, 3, 5)]\n",
      "3\n",
      "3\n",
      "op [(1, 9, 8), (0, 1, 2), (1, 9, 8)]\n",
      "res [(0, 1, 2), (1, 9, 8)]\n"
     ]
    }
   ],
   "source": [
    "sample_list = [(1, 3, 5), (0, 1, 2), (1, 9, 8)]\n",
    "op = []\n",
    "for m in range(len(sample_list)): \n",
    "    li = [sample_list[m]]\n",
    "    for n in range(len(sample_list)):\n",
    "            print(len(sample_list))\n",
    "            if (sample_list[m][0] == sample_list[n][0] and sample_list[m][2] != sample_list[n][2]):\n",
    "                li.append(sample_list[n])\n",
    "                print('append li', li)\n",
    "    op.append(sorted(li, key=lambda dd: dd[2], reverse=True)[0])\n",
    "    print('op', op)\n",
    "res = list(set(op))\n",
    "print('res', res)"
   ]
  },
  {
   "cell_type": "markdown",
   "id": "e8196ad5",
   "metadata": {},
   "source": [
    "**Instructions**\n",
    "\n",
    "**Concisely describe what task the code above accomplishes. Say what it does (in total) and not how it accomplishes it. You may wish to understand the snippet step-by-step, but your description should not state each step individually.**\n",
    "\n",
    "-------------------------------------------------------------------------\n",
    "\n",
    "The code above does not work. To fix the code, the 3 should be a 2 since the list starts from 0, not 1.\n",
    "Additionally in terms of structure the second for loop does not need to be indented.\n",
    "The code iterates through each row of the sample list and eliminates tupules with the same first position number but have a smaller third position number.\n",
    "\n",
    "\n",
    "\n",
    "-------------------------------------------------------------------------\n",
    "**Write a short code review that offers 3-5 (no more) concrete suggestions to make the snippent more efficient, literate (easier to read), or “pythonic”.\n",
    "Focus your suggestions on concepts or principles that would help the author of this code snippet write better code in the future.**\n",
    "\n",
    "-------------------------------------------------------------------------\n",
    "\n",
    "1. As mentioned above, to ensure the code works, the 3 should be a 2.\n",
    "2. The code can be made more efficient by eliminating a list having a set. We are only getting one tupule from the whole list so we don't need sorted because we will no longer hold a list inside of the for loop. Instead we can use a tupule to hold the largest third key with the same first key.\n",
    "3. Instead of using a list we can initialize a set to get rid of the duplicates. In our initial code op is a list that holds three values and can hold duplicates, which we don't want.\n"
   ]
  },
  {
   "cell_type": "markdown",
   "id": "bda931b3",
   "metadata": {},
   "source": [
    "## Question 1 - List of Tuples\n",
    "Write a function that uses NumPy and a list comprehension to generate # a random list of n k-tuples containing integers ranging from low to high.\n",
    "Choose an appropriate name for your function, and reasonable default values for # k, low, and high.\n",
    "Use assert to test that your function returns a list of tuples."
   ]
  },
  {
   "cell_type": "code",
   "execution_count": 2,
   "id": "01ff01c7",
   "metadata": {},
   "outputs": [],
   "source": [
    "import numpy as np\n",
    "import pandas as pd\n",
    "from timeit import Timer\n",
    "from collections import defaultdict"
   ]
  },
  {
   "cell_type": "code",
   "execution_count": 3,
   "id": "9acba37d",
   "metadata": {},
   "outputs": [],
   "source": [
    "rng = np.random.default_rng()\n",
    "\n",
    "def Tuple(n, k, low, high):\n",
    "    res = list()\n",
    "    for i in range(n):\n",
    "        rints = rng.integers(low=low, high=high, size=k)\n",
    "        res.append(tuple(rints))\n",
    "    return(res)\n",
    "    assert type(tuple(res)) is tuple"
   ]
  },
  {
   "cell_type": "markdown",
   "id": "8a18bb58",
   "metadata": {},
   "source": [
    "## Question 2 - Refractor the Snippet\n",
    "In this question, you will write functions to accomplish the goal you concisely described in part “a” of the warm up.\n",
    "\n",
    "a) Encapsulate the code snippet from the warmup into a function that parameterizes the role of 0 and 3 and is otherwise unchanged. Choose appropriate names for these paramters."
   ]
  },
  {
   "cell_type": "code",
   "execution_count": 4,
   "id": "37b24691",
   "metadata": {},
   "outputs": [],
   "source": [
    "def Snip(key, value, n, k, low, high):\n",
    "    sample_list = Tuple(n, k, low, high)\n",
    "    op = []\n",
    "    for m in range(len(sample_list)): \n",
    "        li = [sample_list[m]]\n",
    "        for n in range(len(sample_list)):\n",
    "                if (sample_list[m][key] == sample_list[n][key] and sample_list[m][value] != sample_list[n][value]):\n",
    "                    li.append(sample_list[n])\n",
    "        op.append(sorted(li, key=lambda dd: dd[2], reverse=True)[0])\n",
    "    res = list(set(op))\n",
    "    return res"
   ]
  },
  {
   "cell_type": "markdown",
   "id": "5a0e27d7",
   "metadata": {},
   "source": [
    "b) Write an improved version of the function form part a that implements the suggestions from the code review you wrote in part b of the warmup."
   ]
  },
  {
   "cell_type": "code",
   "execution_count": 5,
   "id": "fcf84481",
   "metadata": {},
   "outputs": [],
   "source": [
    "def Improv(key, value, n, k, low, high):\n",
    "    sample_list = Tuple(n, k, low, high)\n",
    "    res = set()\n",
    "    for m in range(len(sample_list)):\n",
    "        largest = sample_list[m]\n",
    "        for n in range(len(sample_list)):\n",
    "            if (sample_list[m][key] == sample_list[n][key] and largest[value] < sample_list[n][value]):\n",
    "                largest = sample_list[n]\n",
    "        res.add(largest)\n",
    "    return(list(res))"
   ]
  },
  {
   "cell_type": "markdown",
   "id": "dd4eb350",
   "metadata": {},
   "source": [
    "c) Write a function from scratch to accomplish the same task as the previous two parts.\n",
    "Your solution should traverse the input list of tuples no more than twice.\n",
    "Hint: consider using a dictionary or a default dictionary in your solution."
   ]
  },
  {
   "cell_type": "code",
   "execution_count": 6,
   "id": "8a0ef880",
   "metadata": {},
   "outputs": [],
   "source": [
    "def Scratch(key, value, n, k, low, high):\n",
    "    sample_list = Tuple(n, k, low, high)\n",
    "    res = dict()\n",
    "    for sample in sample_list:\n",
    "        if sample[key] not in res.keys() or sample[value] > res.get(sample[key])[value]:\n",
    "            res.update({sample[key]: sample})\n",
    "    return(list(res.values()))"
   ]
  },
  {
   "cell_type": "markdown",
   "id": "2c53c8ef",
   "metadata": {},
   "source": [
    "d) Use the function you wrote in question 1 to generate a list of tuples as input(s), run and summarize a small Monte Carlo study comparing the execution times of the three functions above (a-c)."
   ]
  },
  {
   "cell_type": "code",
   "execution_count": 7,
   "id": "3299318f",
   "metadata": {},
   "outputs": [],
   "source": [
    "n_mc = 30 # take sample of 30\n",
    "res = defaultdict(list)\n",
    "  \n",
    "for i in range(n_mc):\n",
    "    n = rng.integers(1, high=100)\n",
    "    k = rng.integers(2, high=100)\n",
    "    high = rng.integers(1, high=100)\n",
    "    low = rng.integers(0, high=high)\n",
    "    key = rng.integers(0, high=k)\n",
    "    value = rng.integers(0, high=k)\n",
    "    res[\"n\"].append(n)\n",
    "    res[\"k\"].append(k)\n",
    "    res[\"high\"].append(high)\n",
    "    res[\"low\"].append(low)\n",
    "    res[\"key\"].append(key)\n",
    "    res[\"value\"].append(value)\n",
    "    for f in (Snip, Improv, Scratch):\n",
    "        # generate parameters\n",
    "        # calc time\n",
    "        t = Timer(\"f(key, value, n, k, low, high)\", globals={\"f\": f, \"key\": key, \"value\": value, \"n\": n, \"k\": k, \"low\": low, \"high\": high})\n",
    "#        m1 = np.median([t.timeit(1) for i in range(n_mc)]) \n",
    "        m2 = np.mean([t.timeit(1) for i in range(n_mc)])            \n",
    "        res[f.__name__].append(round(m2 * 1e6, 1))\n",
    "        \n",
    "\n",
    "# construct a table\n",
    "\n",
    "res = pd.DataFrame(res)\n",
    "t1 = res.to_html(index=False)\n",
    "t1 = t1.rsplit('\\n')\n",
    "tab1 = ''\n",
    "for i, line in enumerate(t1):\n",
    "    tab1 += line\n",
    "    if i < (len(t1) - 1):\n",
    "        tab1 += '\\n'"
   ]
  },
  {
   "cell_type": "code",
   "execution_count": null,
   "id": "471471f0",
   "metadata": {},
   "outputs": [],
   "source": []
  },
  {
   "cell_type": "code",
   "execution_count": null,
   "id": "466743c3",
   "metadata": {},
   "outputs": [],
   "source": []
  }
 ],
 "metadata": {
  "kernelspec": {
   "display_name": "Python 3 (ipykernel)",
   "language": "python",
   "name": "python3"
  },
  "language_info": {
   "codemirror_mode": {
    "name": "ipython",
    "version": 3
   },
   "file_extension": ".py",
   "mimetype": "text/x-python",
   "name": "python",
   "nbconvert_exporter": "python",
   "pygments_lexer": "ipython3",
   "version": "3.8.1"
  }
 },
 "nbformat": 4,
 "nbformat_minor": 5
}
